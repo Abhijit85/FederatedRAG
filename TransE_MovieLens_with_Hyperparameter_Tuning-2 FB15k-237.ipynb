{
  "cells": [
    {
      "cell_type": "code",
      "source": [
        "# whether you are using a GPU to run this Colab\n",
        "use_gpu = True\n",
        "# whether you are using a custom GCE env to run the Colab (uses different CUDA)\n",
        "custom_GCE_env = False"
      ],
      "metadata": {
        "id": "jpbRLCeH9__g"
      },
      "id": "jpbRLCeH9__g",
      "execution_count": 2,
      "outputs": []
    },
    {
      "cell_type": "markdown",
      "source": [
        "# Installations for pyTorch geometry"
      ],
      "metadata": {
        "id": "n43g0rHZ-nEm"
      },
      "id": "n43g0rHZ-nEm"
    },
    {
      "cell_type": "code",
      "source": [
        "if custom_GCE_env:\n",
        "  !pip install torch-scatter -f https://data.pyg.org/whl/torch-1.9.0+cu102.html\n",
        "  !pip install torch-sparse -f https://data.pyg.org/whl/torch-1.9.0+cu102.html\n",
        "else:\n",
        "  !pip install torch-scatter -f https://data.pyg.org/whl/torch-1.10.0+cu111.html\n",
        "  !pip install torch-sparse -f https://data.pyg.org/whl/torch-1.10.0+cu111.html\n",
        "!pip install torch-geometric"
      ],
      "metadata": {
        "id": "hO4hJKRz-rUQ",
        "outputId": "320b59e4-5beb-4860-f6f2-5adbfc64be5b",
        "colab": {
          "base_uri": "https://localhost:8080/"
        }
      },
      "id": "hO4hJKRz-rUQ",
      "execution_count": 3,
      "outputs": [
        {
          "output_type": "stream",
          "name": "stdout",
          "text": [
            "Looking in links: https://data.pyg.org/whl/torch-1.10.0+cu111.html\n",
            "Collecting torch-scatter\n",
            "  Downloading torch_scatter-2.1.2.tar.gz (108 kB)\n",
            "\u001b[2K     \u001b[90m━━━━━━━━━━━━━━━━━━━━━━━━━━━━━━━━━━━━━━━━\u001b[0m \u001b[32m108.0/108.0 kB\u001b[0m \u001b[31m8.9 MB/s\u001b[0m eta \u001b[36m0:00:00\u001b[0m\n",
            "\u001b[?25h  Preparing metadata (setup.py) ... \u001b[?25l\u001b[?25hdone\n",
            "Building wheels for collected packages: torch-scatter\n",
            "  Building wheel for torch-scatter (setup.py) ... \u001b[?25l\u001b[?25hdone\n",
            "  Created wheel for torch-scatter: filename=torch_scatter-2.1.2-cp310-cp310-linux_x86_64.whl size=3662083 sha256=ef4c7e301b8f429fe50f6e671e2db09009f7b992f5b0bfc77c51669dc02ffc92\n",
            "  Stored in directory: /root/.cache/pip/wheels/92/f1/2b/3b46d54b134259f58c8363568569053248040859b1a145b3ce\n",
            "Successfully built torch-scatter\n",
            "Installing collected packages: torch-scatter\n",
            "Successfully installed torch-scatter-2.1.2\n",
            "Looking in links: https://data.pyg.org/whl/torch-1.10.0+cu111.html\n",
            "Collecting torch-sparse\n",
            "  Downloading torch_sparse-0.6.18.tar.gz (209 kB)\n",
            "\u001b[2K     \u001b[90m━━━━━━━━━━━━━━━━━━━━━━━━━━━━━━━━━━━━━━━━\u001b[0m \u001b[32m210.0/210.0 kB\u001b[0m \u001b[31m15.4 MB/s\u001b[0m eta \u001b[36m0:00:00\u001b[0m\n",
            "\u001b[?25h  Preparing metadata (setup.py) ... \u001b[?25l\u001b[?25hdone\n",
            "Requirement already satisfied: scipy in /usr/local/lib/python3.10/dist-packages (from torch-sparse) (1.13.1)\n",
            "Requirement already satisfied: numpy<2.3,>=1.22.4 in /usr/local/lib/python3.10/dist-packages (from scipy->torch-sparse) (1.26.4)\n",
            "Building wheels for collected packages: torch-sparse\n",
            "  Building wheel for torch-sparse (setup.py) ... \u001b[?25l\u001b[?25hdone\n",
            "  Created wheel for torch-sparse: filename=torch_sparse-0.6.18-cp310-cp310-linux_x86_64.whl size=2795430 sha256=36ba40633ea921b0c83d3dd9105de0949aa8804d80429a4cadfa4ec08945cd1a\n",
            "  Stored in directory: /root/.cache/pip/wheels/c9/dd/0f/a6a16f9f3b0236733d257b4b4ea91b548b984a341ed3b8f38c\n",
            "Successfully built torch-sparse\n",
            "Installing collected packages: torch-sparse\n",
            "Successfully installed torch-sparse-0.6.18\n",
            "Collecting torch-geometric\n",
            "  Downloading torch_geometric-2.6.1-py3-none-any.whl.metadata (63 kB)\n",
            "\u001b[2K     \u001b[90m━━━━━━━━━━━━━━━━━━━━━━━━━━━━━━━━━━━━━━━━\u001b[0m \u001b[32m63.1/63.1 kB\u001b[0m \u001b[31m5.6 MB/s\u001b[0m eta \u001b[36m0:00:00\u001b[0m\n",
            "\u001b[?25hRequirement already satisfied: aiohttp in /usr/local/lib/python3.10/dist-packages (from torch-geometric) (3.11.10)\n",
            "Requirement already satisfied: fsspec in /usr/local/lib/python3.10/dist-packages (from torch-geometric) (2024.10.0)\n",
            "Requirement already satisfied: jinja2 in /usr/local/lib/python3.10/dist-packages (from torch-geometric) (3.1.4)\n",
            "Requirement already satisfied: numpy in /usr/local/lib/python3.10/dist-packages (from torch-geometric) (1.26.4)\n",
            "Requirement already satisfied: psutil>=5.8.0 in /usr/local/lib/python3.10/dist-packages (from torch-geometric) (5.9.5)\n",
            "Requirement already satisfied: pyparsing in /usr/local/lib/python3.10/dist-packages (from torch-geometric) (3.2.0)\n",
            "Requirement already satisfied: requests in /usr/local/lib/python3.10/dist-packages (from torch-geometric) (2.32.3)\n",
            "Requirement already satisfied: tqdm in /usr/local/lib/python3.10/dist-packages (from torch-geometric) (4.67.1)\n",
            "Requirement already satisfied: aiohappyeyeballs>=2.3.0 in /usr/local/lib/python3.10/dist-packages (from aiohttp->torch-geometric) (2.4.4)\n",
            "Requirement already satisfied: aiosignal>=1.1.2 in /usr/local/lib/python3.10/dist-packages (from aiohttp->torch-geometric) (1.3.2)\n",
            "Requirement already satisfied: async-timeout<6.0,>=4.0 in /usr/local/lib/python3.10/dist-packages (from aiohttp->torch-geometric) (4.0.3)\n",
            "Requirement already satisfied: attrs>=17.3.0 in /usr/local/lib/python3.10/dist-packages (from aiohttp->torch-geometric) (24.3.0)\n",
            "Requirement already satisfied: frozenlist>=1.1.1 in /usr/local/lib/python3.10/dist-packages (from aiohttp->torch-geometric) (1.5.0)\n",
            "Requirement already satisfied: multidict<7.0,>=4.5 in /usr/local/lib/python3.10/dist-packages (from aiohttp->torch-geometric) (6.1.0)\n",
            "Requirement already satisfied: propcache>=0.2.0 in /usr/local/lib/python3.10/dist-packages (from aiohttp->torch-geometric) (0.2.1)\n",
            "Requirement already satisfied: yarl<2.0,>=1.17.0 in /usr/local/lib/python3.10/dist-packages (from aiohttp->torch-geometric) (1.18.3)\n",
            "Requirement already satisfied: MarkupSafe>=2.0 in /usr/local/lib/python3.10/dist-packages (from jinja2->torch-geometric) (3.0.2)\n",
            "Requirement already satisfied: charset-normalizer<4,>=2 in /usr/local/lib/python3.10/dist-packages (from requests->torch-geometric) (3.4.0)\n",
            "Requirement already satisfied: idna<4,>=2.5 in /usr/local/lib/python3.10/dist-packages (from requests->torch-geometric) (3.10)\n",
            "Requirement already satisfied: urllib3<3,>=1.21.1 in /usr/local/lib/python3.10/dist-packages (from requests->torch-geometric) (2.2.3)\n",
            "Requirement already satisfied: certifi>=2017.4.17 in /usr/local/lib/python3.10/dist-packages (from requests->torch-geometric) (2024.12.14)\n",
            "Requirement already satisfied: typing-extensions>=4.1.0 in /usr/local/lib/python3.10/dist-packages (from multidict<7.0,>=4.5->aiohttp->torch-geometric) (4.12.2)\n",
            "Downloading torch_geometric-2.6.1-py3-none-any.whl (1.1 MB)\n",
            "\u001b[2K   \u001b[90m━━━━━━━━━━━━━━━━━━━━━━━━━━━━━━━━━━━━━━━━\u001b[0m \u001b[32m1.1/1.1 MB\u001b[0m \u001b[31m61.2 MB/s\u001b[0m eta \u001b[36m0:00:00\u001b[0m\n",
            "\u001b[?25hInstalling collected packages: torch-geometric\n",
            "Successfully installed torch-geometric-2.6.1\n"
          ]
        }
      ]
    },
    {
      "cell_type": "markdown",
      "id": "22d6e274",
      "metadata": {
        "id": "22d6e274"
      },
      "source": [
        "# Import Libraries"
      ]
    },
    {
      "cell_type": "code",
      "execution_count": 4,
      "id": "258146e1",
      "metadata": {
        "id": "258146e1"
      },
      "outputs": [],
      "source": [
        "import os\n",
        "import torch\n",
        "import torch.nn as nn\n",
        "import torch.optim as optim\n",
        "import pandas as pd\n",
        "import numpy as np\n",
        "import math\n",
        "from torch_geometric.data import InMemoryDataset, DataLoader\n",
        "import torch_geometric"
      ]
    },
    {
      "cell_type": "markdown",
      "id": "7e9b37dc",
      "metadata": {
        "id": "7e9b37dc"
      },
      "source": [
        "# Step 1: Data Preprocessing and Preparation"
      ]
    },
    {
      "cell_type": "code",
      "source": [
        "class FB15kDataset(torch_geometric.data.InMemoryDataset):\n",
        "    r\"\"\"FB15-237 dataset from Freebase.\n",
        "    Follows similar structure to torch_geometric.datasets.rel_link_pred_dataset\n",
        "\n",
        "    Args:\n",
        "      root (string): Root directory where the dataset should be saved.\n",
        "      transform (callable, optional): A function/transform that takes in an\n",
        "          :obj:`torch_geometric.data.Data` object and returns a transformed\n",
        "          version. The data object will be transformed before every access.\n",
        "          (default: :obj:`None`)\n",
        "      pre_transform (callable, optional): A function/transform that takes in\n",
        "          an :obj:`torch_geometric.data.Data` object and returns a\n",
        "          transformed version. The data object will be transformed before\n",
        "          being saved to disk. (default: :obj:`None`)\n",
        "    \"\"\"\n",
        "    data_path = 'https://raw.githubusercontent.com/DeepGraphLearning/' \\\n",
        "                'KnowledgeGraphEmbedding/master/data/FB15k-237'\n",
        "\n",
        "    def __init__(self, root, transform=None, pre_transform=None):\n",
        "        super().__init__(root, transform, pre_transform)\n",
        "        self.data, self.slices = torch.load(self.processed_paths[0])\n",
        "\n",
        "    @property\n",
        "    def raw_file_names(self):\n",
        "        return ['train.txt', 'valid.txt', 'test.txt',\n",
        "                'entities.dict', 'relations.dict']\n",
        "\n",
        "    @property\n",
        "    def processed_file_names(self):\n",
        "        return ['data.pt']\n",
        "\n",
        "    @property\n",
        "    def raw_dir(self):\n",
        "        return os.path.join(self.root, 'raw')\n",
        "\n",
        "    def download(self):\n",
        "        for file_name in self.raw_file_names:\n",
        "            torch_geometric.data.download_url(f'{self.data_path}/{file_name}',\n",
        "                                              self.raw_dir)\n",
        "\n",
        "    def process(self):\n",
        "        with open(os.path.join(self.raw_dir, 'entities.dict'), 'r') as f:\n",
        "            lines = [row.split('\\t') for row in f.read().split('\\n')[:-1]]\n",
        "            entities_dict = {key: int(value) for value, key in lines}\n",
        "\n",
        "        with open(os.path.join(self.raw_dir, 'relations.dict'), 'r') as f:\n",
        "            lines = [row.split('\\t') for row in f.read().split('\\n')[:-1]]\n",
        "            relations_dict = {key: int(value) for value, key in lines}\n",
        "\n",
        "        kwargs = {}\n",
        "        for split in ['train', 'valid', 'test']:\n",
        "            with open(os.path.join(self.raw_dir, f'{split}.txt'), 'r') as f:\n",
        "                lines = [row.split('\\t') for row in f.read().split('\\n')[:-1]]\n",
        "                heads = [entities_dict[row[0]] for row in lines]\n",
        "                relations = [relations_dict[row[1]] for row in lines]\n",
        "                tails = [entities_dict[row[2]] for row in lines]\n",
        "                kwargs[f'{split}_edge_index'] = torch.tensor([heads, tails])\n",
        "                kwargs[f'{split}_edge_type'] = torch.tensor(relations)\n",
        "\n",
        "        _data = torch_geometric.data.Data(num_entities=len(entities_dict),\n",
        "                                          num_relations=len(relations_dict),\n",
        "                                          **kwargs)\n",
        "\n",
        "        if self.pre_transform is not None:\n",
        "            _data = self.pre_transform(_data)\n",
        "\n",
        "        data, slices = self.collate([_data])\n",
        "\n",
        "        torch.save((data, slices), self.processed_paths[0])\n",
        "\n",
        "# Load dataset\n",
        "FB15k_dset = FB15kDataset(root='FB15k')\n",
        "data = FB15k_dset[0]\n"
      ],
      "metadata": {
        "id": "7ArckbKwPn_h",
        "outputId": "cb0d25dd-405d-4c3f-aeca-c0c0c1936b5f",
        "colab": {
          "base_uri": "https://localhost:8080/"
        }
      },
      "id": "7ArckbKwPn_h",
      "execution_count": 7,
      "outputs": [
        {
          "output_type": "stream",
          "name": "stderr",
          "text": [
            "Downloading https://raw.githubusercontent.com/DeepGraphLearning/KnowledgeGraphEmbedding/master/data/FB15k-237/train.txt\n",
            "Downloading https://raw.githubusercontent.com/DeepGraphLearning/KnowledgeGraphEmbedding/master/data/FB15k-237/valid.txt\n",
            "Downloading https://raw.githubusercontent.com/DeepGraphLearning/KnowledgeGraphEmbedding/master/data/FB15k-237/test.txt\n",
            "Downloading https://raw.githubusercontent.com/DeepGraphLearning/KnowledgeGraphEmbedding/master/data/FB15k-237/entities.dict\n",
            "Downloading https://raw.githubusercontent.com/DeepGraphLearning/KnowledgeGraphEmbedding/master/data/FB15k-237/relations.dict\n",
            "Processing...\n",
            "Done!\n",
            "<ipython-input-7-49822d486446>:21: FutureWarning: You are using `torch.load` with `weights_only=False` (the current default value), which uses the default pickle module implicitly. It is possible to construct malicious pickle data which will execute arbitrary code during unpickling (See https://github.com/pytorch/pytorch/blob/main/SECURITY.md#untrusted-models for more details). In a future release, the default value for `weights_only` will be flipped to `True`. This limits the functions that could be executed during unpickling. Arbitrary objects will no longer be allowed to be loaded via this mode unless they are explicitly allowlisted by the user via `torch.serialization.add_safe_globals`. We recommend you start setting `weights_only=True` for any use case where you don't have full control of the loaded file. Please open an issue on GitHub for any issues related to this experimental feature.\n",
            "  self.data, self.slices = torch.load(self.processed_paths[0])\n"
          ]
        }
      ]
    },
    {
      "cell_type": "markdown",
      "id": "b9738de1",
      "metadata": {
        "id": "b9738de1"
      },
      "source": [
        "# Step 2: Define the TransE Model"
      ]
    },
    {
      "cell_type": "code",
      "source": [
        "class TransE(nn.Module):\n",
        "    def __init__(self, num_entities, num_relations, embedding_dim, margin, distance_metric='L1', visualize=False):\n",
        "        super(TransE, self).__init__()\n",
        "        self.entity_embeddings = nn.Embedding(num_entities, embedding_dim)\n",
        "        self.relation_embeddings = nn.Embedding(num_relations, embedding_dim)\n",
        "        self.margin = margin\n",
        "        self.distance_metric = distance_metric\n",
        "        self.visualize = visualize\n",
        "\n",
        "        # Initialize embeddings using TransE paper's method\n",
        "        uniform_max = 6 / np.sqrt(embedding_dim)\n",
        "        self.entity_embeddings.weight.data.uniform_(-uniform_max, uniform_max)\n",
        "        self.relation_embeddings.weight.data.uniform_(-uniform_max, uniform_max)\n",
        "\n",
        "    def forward(self, edge_index, negative_edge_index, edge_type):\n",
        "        positive_distance = self.distance(edge_index, edge_type)\n",
        "        negative_distance = self.distance(negative_edge_index, edge_type)\n",
        "        return self.loss(positive_distance, negative_distance)\n",
        "\n",
        "    def predict(self, edge_index, edge_type):\n",
        "        return self.distance(edge_index, edge_type)\n",
        "\n",
        "    def distance(self, edge_index, edge_type):\n",
        "        heads = edge_index[0, :]\n",
        "        tails = edge_index[1, :]\n",
        "        return (self.entity_embeddings(heads) + self.relation_embeddings(edge_type) -\n",
        "                self.entity_embeddings(tails)).norm(p=2., dim=1, keepdim=True)  # L2 norm of h + r - t\n",
        "\n",
        "    # def loss(self, positive_distance, negative_distance):\n",
        "    #     y = torch.tensor([-1], dtype=torch.long, device=self.entity_embeddings.weight.device)\n",
        "    #     criterion = nn.MarginRankingLoss(margin=self.margin)\n",
        "    #     return criterion(positive_distance, negative_distance, y)\n",
        "\n",
        "    def loss(self, positive_distance, negative_distance):\n",
        "      batch_size = positive_distance.size(0)\n",
        "      y = torch.full((batch_size, 1), -1, dtype=torch.float, device=self.entity_embeddings.weight.device)\n",
        "      criterion = nn.MarginRankingLoss(margin=self.margin)\n",
        "      return criterion(positive_distance, negative_distance, y)\n",
        "\n",
        "\n",
        "\n",
        "# Helper function to create corrupted edges\n",
        "def create_corrupted_edge_index(edge_index, edge_type, num_entities):\n",
        "    corrupt_head_or_tail = torch.randint(high=2, size=edge_type.size(),\n",
        "                                         device=edge_index.device)\n",
        "    random_entities = torch.randint(high=num_entities,\n",
        "                                     size=edge_type.size(), device=edge_index.device)\n",
        "    # corrupt when 1, otherwise regular head\n",
        "    heads = torch.where(corrupt_head_or_tail == 1, random_entities,\n",
        "                        edge_index[0, :])\n",
        "    # corrupt when 0, otherwise regular tail\n",
        "    tails = torch.where(corrupt_head_or_tail == 0, random_entities,\n",
        "                        edge_index[1, :])\n",
        "    return torch.stack([heads, tails], dim=0)"
      ],
      "metadata": {
        "id": "EV5RHJ7MPzFh"
      },
      "id": "EV5RHJ7MPzFh",
      "execution_count": 9,
      "outputs": []
    },
    {
      "cell_type": "markdown",
      "id": "a3d35791",
      "metadata": {
        "id": "a3d35791"
      },
      "source": [
        "# Step 3: Training the Model"
      ]
    },
    {
      "cell_type": "code",
      "source": [
        "def train(model, data, optimizer, device, epochs=50, batch_size=128, valid_freq=5):\n",
        "    train_edge_index = data.train_edge_index.to(device)\n",
        "    train_edge_type = data.train_edge_type.to(device)\n",
        "    valid_edge_index = data.valid_edge_index.to(device)\n",
        "    valid_edge_type = data.valid_edge_type.to(device)\n",
        "\n",
        "    best_valid_score = 0\n",
        "    valid_scores = None\n",
        "    test_scores = None\n",
        "\n",
        "    for epoch in range(epochs):\n",
        "        model.train()\n",
        "\n",
        "        # Normalize entity embeddings\n",
        "        entities_norm = torch.norm(model.entity_embeddings.weight.data, dim=1, keepdim=True)\n",
        "        model.entity_embeddings.weight.data = model.entity_embeddings.weight.data / entities_norm\n",
        "\n",
        "        # Shuffle the training data\n",
        "        num_triples = train_edge_type.size(0)\n",
        "        shuffled_indices = torch.randperm(num_triples)\n",
        "        shuffled_edge_index = train_edge_index[:, shuffled_indices]\n",
        "        shuffled_edge_type = train_edge_type[shuffled_indices]\n",
        "\n",
        "        negative_edge_index = create_corrupted_edge_index(shuffled_edge_index, shuffled_edge_type, data.num_entities)\n",
        "\n",
        "        total_loss = 0\n",
        "        total_size = 0\n",
        "\n",
        "        for batch_start in range(0, num_triples, batch_size):\n",
        "            batch_end = min(batch_start + batch_size, num_triples)\n",
        "            batch_edge_index = shuffled_edge_index[:, batch_start:batch_end]\n",
        "            batch_negative_edge_index = negative_edge_index[:, batch_start:batch_end]\n",
        "            batch_edge_type = shuffled_edge_type[batch_start:batch_end]\n",
        "\n",
        "            loss = model(batch_edge_index, batch_negative_edge_index, batch_edge_type)\n",
        "            optimizer.zero_grad()\n",
        "            loss.backward()\n",
        "            optimizer.step()\n",
        "\n",
        "            total_loss += loss.item() * (batch_end - batch_start)\n",
        "            total_size += batch_end - batch_start\n",
        "\n",
        "        print(f\"Epoch {epoch + 1}/{epochs}, Loss: {total_loss / total_size:.4f}\")\n",
        "\n",
        "        # Validation at regular intervals\n",
        "        if (epoch + 1) % valid_freq == 0:\n",
        "            mrr_score, mr_score, hits_at_10 = evaluate_model(\n",
        "                model, valid_edge_index, valid_edge_type, data.num_entities, device\n",
        "            )\n",
        "            print(f\"Validation score: MRR = {mrr_score:.4f}, MR = {mr_score:.4f}, Hits@10 = {hits_at_10:.4f}\")\n",
        "\n",
        "            # Track best validation score\n",
        "            if mrr_score > best_valid_score:\n",
        "                best_valid_score = mrr_score\n",
        "                test_mrr, test_mr, test_hits_at_10 = evaluate_model(\n",
        "                    model, data.test_edge_index.to(device), data.test_edge_type.to(device), data.num_entities, device\n",
        "                )\n",
        "                test_scores = (test_mrr, test_mr, test_hits_at_10)\n",
        "\n",
        "    print(f\"Test scores from the best model (MMR, MR, Hits@10): {test_scores}\")"
      ],
      "metadata": {
        "id": "3_IddxVTsHi0"
      },
      "id": "3_IddxVTsHi0",
      "execution_count": 11,
      "outputs": []
    },
    {
      "cell_type": "markdown",
      "source": [
        "# Metric Functions"
      ],
      "metadata": {
        "id": "WSdGWCzZQlmA"
      },
      "id": "WSdGWCzZQlmA"
    },
    {
      "cell_type": "code",
      "source": [
        "def mrr(predictions, gt):\n",
        "    indices = predictions.argsort()\n",
        "    return (1.0 / (indices == gt).nonzero()[:, 1].float().add(1.0)).sum().item()\n",
        "\n",
        "def mr(predictions, gt):\n",
        "    indices = predictions.argsort()\n",
        "    return ((indices == gt).nonzero()[:, 1].float().add(1.0)).sum().item()\n",
        "\n",
        "def hit_at_k(predictions, gt, device, k=10):\n",
        "    zero_tensor = torch.tensor([0], device=device)\n",
        "    one_tensor = torch.tensor([1], device=device)\n",
        "    _, indices = predictions.topk(k=k, largest=False)\n",
        "    return torch.where(indices == gt, one_tensor, zero_tensor).sum().item()"
      ],
      "metadata": {
        "id": "Wqh3Sv-MQjDa"
      },
      "id": "Wqh3Sv-MQjDa",
      "execution_count": 12,
      "outputs": []
    },
    {
      "cell_type": "markdown",
      "id": "d5575c25",
      "metadata": {
        "id": "d5575c25"
      },
      "source": [
        "# Step 4: Prediction and Evaluation"
      ]
    },
    {
      "cell_type": "code",
      "execution_count": 13,
      "id": "9a7aab08",
      "metadata": {
        "id": "9a7aab08"
      },
      "outputs": [],
      "source": [
        "def evaluate_model(model, edge_index, edge_type, num_entities, device, eval_batch_size=64):\n",
        "    model.eval()\n",
        "    num_triples = edge_type.size(0)\n",
        "    mrr_score = 0\n",
        "    mr_score = 0\n",
        "    hits_at_10 = 0\n",
        "    num_predictions = 0\n",
        "\n",
        "    with torch.no_grad():\n",
        "        for batch_idx in range(math.ceil(num_triples / eval_batch_size)):\n",
        "            batch_start = batch_idx * eval_batch_size\n",
        "            batch_end = min((batch_idx + 1) * eval_batch_size, num_triples)\n",
        "            batch_edge_index = edge_index[:, batch_start:batch_end]\n",
        "            batch_edge_type = edge_type[batch_start:batch_end]\n",
        "            batch_size = batch_edge_type.size(0)\n",
        "\n",
        "            all_entities = torch.arange(num_entities, device=device).unsqueeze(0).repeat(batch_size, 1)\n",
        "            head_repeated = batch_edge_index[0, :].reshape(-1, 1).repeat(1, num_entities)\n",
        "            relation_repeated = batch_edge_type.reshape(-1, 1).repeat(1, num_entities)\n",
        "\n",
        "            head_squeezed = head_repeated.reshape(-1)\n",
        "            relation_squeezed = relation_repeated.reshape(-1)\n",
        "            all_entities_squeezed = all_entities.reshape(-1)\n",
        "\n",
        "            entity_index_replaced_tail = torch.stack((head_squeezed, all_entities_squeezed))\n",
        "            predictions = model.predict(entity_index_replaced_tail, relation_squeezed)\n",
        "            predictions = predictions.reshape(batch_size, -1)\n",
        "            gt = batch_edge_index[1, :].reshape(-1, 1)\n",
        "\n",
        "            mrr_score += mrr(predictions, gt)\n",
        "            mr_score += mr(predictions, gt)\n",
        "            hits_at_10 += hit_at_k(predictions, gt, device=device, k=10)\n",
        "            num_predictions += batch_size\n",
        "\n",
        "    mrr_score = mrr_score / num_predictions\n",
        "    mr_score = mr_score / num_predictions\n",
        "    hits_at_10 = hits_at_10 / num_predictions\n",
        "    return mrr_score, mr_score, hits_at_10"
      ]
    },
    {
      "cell_type": "markdown",
      "id": "f11468b3",
      "metadata": {
        "id": "f11468b3"
      },
      "source": [
        "# Run evaluation on the dataset"
      ]
    },
    {
      "cell_type": "markdown",
      "id": "N-tWPeo4HyzW",
      "metadata": {
        "id": "N-tWPeo4HyzW"
      },
      "source": [
        "learning rate λ for the stochastic gradient descent among {0.001,0.01,0.1}, the margin γ among {1,2,10} and the latent dimension\n",
        "kamong {20,50} on the validation set of each data set. The dissimilarity measure dwas set either\n",
        "to the L1 or L2 distance according to validation performance as well. Optimal configurations were:\n",
        "k = 20, λ = 0.01, γ = 2, and d= L1 on Wordnet; k = 50, λ = 0.01, γ = 1, and d= L1 on\n",
        "FB15k; k= 50, λ= 0.01, γ = 1, and d= L2 on FB1M"
      ]
    },
    {
      "cell_type": "code",
      "source": [
        "# Start Training\n",
        "lr = 0.1\n",
        "use_gpu = torch.cuda.is_available()\n",
        "if use_gpu:\n",
        "    epochs = 50\n",
        "    valid_freq = 5\n",
        "else:\n",
        "    epochs = 10\n",
        "    valid_freq = 10\n",
        "\n",
        "device = torch.device('cuda' if use_gpu else 'cpu')\n",
        "model = TransE(data.num_entities, data.num_relations, embedding_dim=400, margin=2).to(device)\n",
        "optimizer = torch.optim.SGD(model.parameters(), lr=lr)\n",
        "\n",
        "train(model, data, optimizer, device, epochs=epochs, valid_freq=valid_freq)"
      ],
      "metadata": {
        "id": "WGT8VpSLQ8z8",
        "outputId": "c284e8db-ad34-4666-d1dc-5ec2de642cc3",
        "colab": {
          "base_uri": "https://localhost:8080/"
        }
      },
      "id": "WGT8VpSLQ8z8",
      "execution_count": 21,
      "outputs": [
        {
          "output_type": "stream",
          "name": "stdout",
          "text": [
            "Epoch 1/50, Loss: 1.9712\n",
            "Epoch 2/50, Loss: 1.9277\n",
            "Epoch 3/50, Loss: 1.9035\n",
            "Epoch 4/50, Loss: 1.8838\n",
            "Epoch 5/50, Loss: 1.8672\n",
            "Validation score: MRR = 0.2022, MR = 3396.3455, Hits@10 = 0.2967\n",
            "Epoch 6/50, Loss: 1.8512\n",
            "Epoch 7/50, Loss: 1.8364\n",
            "Epoch 8/50, Loss: 1.8245\n",
            "Epoch 9/50, Loss: 1.8116\n",
            "Epoch 10/50, Loss: 1.8001\n",
            "Validation score: MRR = 0.2205, MR = 2809.7321, Hits@10 = 0.3300\n",
            "Epoch 11/50, Loss: 1.7886\n",
            "Epoch 12/50, Loss: 1.7787\n",
            "Epoch 13/50, Loss: 1.7700\n",
            "Epoch 14/50, Loss: 1.7593\n",
            "Epoch 15/50, Loss: 1.7509\n",
            "Validation score: MRR = 0.2292, MR = 2423.0732, Hits@10 = 0.3502\n",
            "Epoch 16/50, Loss: 1.7423\n",
            "Epoch 17/50, Loss: 1.7345\n",
            "Epoch 18/50, Loss: 1.7263\n",
            "Epoch 19/50, Loss: 1.7196\n",
            "Epoch 20/50, Loss: 1.7130\n",
            "Validation score: MRR = 0.2344, MR = 2113.4531, Hits@10 = 0.3603\n",
            "Epoch 21/50, Loss: 1.7047\n",
            "Epoch 22/50, Loss: 1.6982\n",
            "Epoch 23/50, Loss: 1.6895\n",
            "Epoch 24/50, Loss: 1.6846\n",
            "Epoch 25/50, Loss: 1.6775\n",
            "Validation score: MRR = 0.2379, MR = 1855.6990, Hits@10 = 0.3675\n",
            "Epoch 26/50, Loss: 1.6719\n",
            "Epoch 27/50, Loss: 1.6642\n",
            "Epoch 28/50, Loss: 1.6598\n",
            "Epoch 29/50, Loss: 1.6549\n",
            "Epoch 30/50, Loss: 1.6479\n",
            "Validation score: MRR = 0.2399, MR = 1638.3403, Hits@10 = 0.3734\n",
            "Epoch 31/50, Loss: 1.6424\n",
            "Epoch 32/50, Loss: 1.6368\n",
            "Epoch 33/50, Loss: 1.6300\n",
            "Epoch 34/50, Loss: 1.6259\n",
            "Epoch 35/50, Loss: 1.6186\n",
            "Validation score: MRR = 0.2417, MR = 1455.0883, Hits@10 = 0.3756\n",
            "Epoch 36/50, Loss: 1.6128\n",
            "Epoch 37/50, Loss: 1.6066\n",
            "Epoch 38/50, Loss: 1.6001\n",
            "Epoch 39/50, Loss: 1.5949\n",
            "Epoch 40/50, Loss: 1.5866\n",
            "Validation score: MRR = 0.2432, MR = 1291.2413, Hits@10 = 0.3783\n",
            "Epoch 41/50, Loss: 1.5795\n",
            "Epoch 42/50, Loss: 1.5716\n",
            "Epoch 43/50, Loss: 1.5642\n",
            "Epoch 44/50, Loss: 1.5577\n",
            "Epoch 45/50, Loss: 1.5489\n",
            "Validation score: MRR = 0.2440, MR = 1144.0464, Hits@10 = 0.3804\n",
            "Epoch 46/50, Loss: 1.5412\n",
            "Epoch 47/50, Loss: 1.5351\n",
            "Epoch 48/50, Loss: 1.5261\n",
            "Epoch 49/50, Loss: 1.5178\n",
            "Epoch 50/50, Loss: 1.5120\n",
            "Validation score: MRR = 0.2443, MR = 1037.3350, Hits@10 = 0.3805\n",
            "Test scores from the best model (MMR, MR, Hits@10): (0.23913119904726793, 1086.8929932571093, 0.37383953874719045)\n"
          ]
        }
      ]
    }
  ],
  "metadata": {
    "accelerator": "GPU",
    "colab": {
      "gpuType": "T4",
      "machine_shape": "hm",
      "provenance": [],
      "toc_visible": true
    },
    "kernelspec": {
      "display_name": "Python 3",
      "name": "python3"
    },
    "language_info": {
      "codemirror_mode": {
        "name": "ipython",
        "version": 3
      },
      "file_extension": ".py",
      "mimetype": "text/x-python",
      "name": "python",
      "nbconvert_exporter": "python",
      "pygments_lexer": "ipython3",
      "version": "3.11.11"
    }
  },
  "nbformat": 4,
  "nbformat_minor": 5
}